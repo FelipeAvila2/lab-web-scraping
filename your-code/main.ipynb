{
 "cells": [
  {
   "cell_type": "markdown",
   "metadata": {},
   "source": [
    "# Web Scraping Lab\n",
    "\n",
    "You will find in this notebook some scrapy exercises to practise your scraping skills.\n",
    "\n",
    "**Tips:**\n",
    "\n",
    "- Check the response status code for each request to ensure you have obtained the intended content.\n",
    "- Print the response text in each request to understand the kind of info you are getting and its format.\n",
    "- Check for patterns in the response text to extract the data/info requested in each question.\n",
    "- Visit the urls below and take a look at their source code through Chrome DevTools. You'll need to identify the html tags, special class names, etc used in the html content you are expected to extract.\n",
    "\n",
    "**Resources**:\n",
    "- [Requests library](http://docs.python-requests.org/en/master/#the-user-guide)\n",
    "- [Beautiful Soup Doc](https://www.crummy.com/software/BeautifulSoup/bs4/doc/)\n",
    "- [Urllib](https://docs.python.org/3/library/urllib.html#module-urllib)\n",
    "- [re lib](https://docs.python.org/3/library/re.html)\n",
    "- [lxml lib](https://lxml.de/)\n",
    "- [Scrapy](https://scrapy.org/)\n",
    "- [List of HTTP status codes](https://en.wikipedia.org/wiki/List_of_HTTP_status_codes)\n",
    "- [HTML basics](http://www.simplehtmlguide.com/cheatsheet.php)\n",
    "- [CSS basics](https://www.cssbasics.com/#page_start)"
   ]
  },
  {
   "cell_type": "markdown",
   "metadata": {},
   "source": [
    "#### Below are the libraries and modules you may need. `requests`,  `BeautifulSoup` and `pandas` are already imported for you. If you prefer to use additional libraries feel free to do it."
   ]
  },
  {
   "cell_type": "code",
   "execution_count": 209,
   "metadata": {},
   "outputs": [],
   "source": [
    "import requests\n",
    "from bs4 import BeautifulSoup\n",
    "import pandas as pd"
   ]
  },
  {
   "cell_type": "markdown",
   "metadata": {},
   "source": [
    "#### Download, parse (using BeautifulSoup), and print the content from the Trending Developers page from GitHub:"
   ]
  },
  {
   "cell_type": "code",
   "execution_count": 210,
   "metadata": {},
   "outputs": [],
   "source": [
    "# This is the url you will scrape in this exercise\n",
    "url = 'https://github.com/trending/developers'"
   ]
  },
  {
   "cell_type": "code",
   "execution_count": 211,
   "metadata": {},
   "outputs": [
    {
     "data": {
      "text/plain": [
       "<Response [200]>"
      ]
     },
     "execution_count": 211,
     "metadata": {},
     "output_type": "execute_result"
    }
   ],
   "source": [
    "# your code here\n",
    "\n",
    "response = requests.get(url)\n",
    "response"
   ]
  },
  {
   "cell_type": "code",
   "execution_count": 212,
   "metadata": {},
   "outputs": [],
   "source": [
    "data_html = response.content # stored the html content in a variable"
   ]
  },
  {
   "cell_type": "markdown",
   "metadata": {},
   "source": [
    "#### 1. Display the names of the trending developers retrieved in the previous step.\n",
    "\n",
    "Your output should be a Python list of developer names. Each name should not contain any html tag.\n",
    "\n",
    "**Instructions:**\n",
    "\n",
    "1. Find out the html tag and class names used for the developer names. You can achieve this using Chrome DevTools or clicking in 'Inspect' on any browser. Here is an example:\n",
    "\n",
    "![title](example_1.png)\n",
    "\n",
    "2. Use BeautifulSoup `find_all()` to extract all the html elements that contain the developer names. Hint: pass in the `attrs` parameter to specify the class.\n",
    "\n",
    "3. Loop through the elements found and get the text for each of them.\n",
    "\n",
    "4. While you are at it, use string manipulation techniques to replace whitespaces and linebreaks (i.e. `\\n`) in the *text* of each html element. Use a list to store the clean names. Hint: you may also use `.get_text()` instead of `.text` and pass in the desired parameters to do some string manipulation (check the documentation).\n",
    "\n",
    "5. Print the list of names.\n",
    "\n",
    "Your output should look like below:\n",
    "\n",
    "```\n",
    "['trimstray (@trimstray)',\n",
    " 'joewalnes (JoeWalnes)',\n",
    " 'charlax (Charles-AxelDein)',\n",
    " 'ForrestKnight (ForrestKnight)',\n",
    " 'revery-ui (revery-ui)',\n",
    " 'alibaba (Alibaba)',\n",
    " 'Microsoft (Microsoft)',\n",
    " 'github (GitHub)',\n",
    " 'facebook (Facebook)',\n",
    " 'boazsegev (Bo)',\n",
    " 'google (Google)',\n",
    " 'cloudfetch',\n",
    " 'sindresorhus (SindreSorhus)',\n",
    " 'tensorflow',\n",
    " 'apache (TheApacheSoftwareFoundation)',\n",
    " 'DevonCrawford (DevonCrawford)',\n",
    " 'ARMmbed (ArmMbed)',\n",
    " 'vuejs (vuejs)',\n",
    " 'fastai (fast.ai)',\n",
    " 'QiShaoXuan (Qi)',\n",
    " 'joelparkerhenderson (JoelParkerHenderson)',\n",
    " 'torvalds (LinusTorvalds)',\n",
    " 'CyC2018',\n",
    " 'komeiji-satori (神楽坂覚々)',\n",
    " 'script-8']\n",
    " ```"
   ]
  },
  {
   "cell_type": "code",
   "execution_count": 213,
   "metadata": {},
   "outputs": [],
   "source": [
    "# your code here\n",
    "soup = BeautifulSoup(data_html)\n",
    "result = soup.find_all('h1', {'class': 'h3 lh-condensed'})"
   ]
  },
  {
   "cell_type": "code",
   "execution_count": 214,
   "metadata": {},
   "outputs": [],
   "source": [
    "name_list = []"
   ]
  },
  {
   "cell_type": "code",
   "execution_count": 215,
   "metadata": {},
   "outputs": [],
   "source": [
    "for content in result:\n",
    "    soup = BeautifulSoup(str(content))\n",
    "    a = soup.find('a')\n",
    "    name_list.append((a.get_text()))"
   ]
  },
  {
   "cell_type": "code",
   "execution_count": 216,
   "metadata": {},
   "outputs": [
    {
     "name": "stdout",
     "output_type": "stream",
     "text": [
      "['\\n            Welly\\n', '\\n            Teppei Fukuda\\n', '\\n            Klaus Post\\n', '\\n            Wei Wang\\n', '\\n            二货机器人\\n', '\\n            Alec Thomas\\n', '\\n            Fernand Galiana\\n', '\\n            Ella van\\xa0Durpe\\n', '\\n            PySimpleGUI\\n', '\\n            Yair Morgenstern\\n', '\\n            Matt Layher\\n', '\\n            Alex Goodman\\n', '\\n            Jason Miller\\n', '\\n            Dmitry Vyukov\\n', '\\n            Vsevolod Tolstopyatov\\n', '\\n            Stefan Prodan\\n', '\\n            Sylvain Gugger\\n', '\\n            Mislav Marohnić\\n', '\\n            David Tolnay\\n', '\\n            Facundo Olano\\n', '\\n            JJ Kasper\\n', '\\n            Han Xiao\\n', '\\n            Mr.doob\\n', '\\n            Brandon\\n', '\\n            Kévin Dunglas\\n']\n"
     ]
    }
   ],
   "source": [
    "print(name_list)"
   ]
  },
  {
   "cell_type": "code",
   "execution_count": 217,
   "metadata": {},
   "outputs": [],
   "source": [
    "new_list = []\n",
    "\n",
    "for name in name_list:\n",
    "    name_str = str(name)\n",
    "    name_str = name_str.strip(\"\\n\")\n",
    "    name_str = name_str.strip()\n",
    "    new_list.append(name_str)"
   ]
  },
  {
   "cell_type": "code",
   "execution_count": 218,
   "metadata": {},
   "outputs": [
    {
     "name": "stdout",
     "output_type": "stream",
     "text": [
      "['Welly', 'Teppei Fukuda', 'Klaus Post', 'Wei Wang', '二货机器人', 'Alec Thomas', 'Fernand Galiana', 'Ella van\\xa0Durpe', 'PySimpleGUI', 'Yair Morgenstern', 'Matt Layher', 'Alex Goodman', 'Jason Miller', 'Dmitry Vyukov', 'Vsevolod Tolstopyatov', 'Stefan Prodan', 'Sylvain Gugger', 'Mislav Marohnić', 'David Tolnay', 'Facundo Olano', 'JJ Kasper', 'Han Xiao', 'Mr.doob', 'Brandon', 'Kévin Dunglas']\n"
     ]
    }
   ],
   "source": [
    "print(new_list)"
   ]
  },
  {
   "cell_type": "markdown",
   "metadata": {},
   "source": [
    "#### 1.1. Display the trending Python repositories in GitHub.\n",
    "\n",
    "The steps to solve this problem is similar to the previous one except that you need to find out the repository names instead of developer names."
   ]
  },
  {
   "cell_type": "code",
   "execution_count": 219,
   "metadata": {},
   "outputs": [],
   "source": [
    "# This is the url you will scrape in this exercise\n",
    "url = 'https://github.com/trending/python?since=daily'\n",
    "\n",
    "response = requests.get(url)\n",
    "\n",
    "data_html = response.content \n",
    "\n"
   ]
  },
  {
   "cell_type": "code",
   "execution_count": 220,
   "metadata": {},
   "outputs": [],
   "source": [
    "# your code here\n",
    "\n",
    "soup = BeautifulSoup(data_html)\n",
    "result = soup.find_all('h1', {'class': 'h3 lh-condensed'})"
   ]
  },
  {
   "cell_type": "code",
   "execution_count": 221,
   "metadata": {},
   "outputs": [],
   "source": [
    "repo_list = []\n",
    "\n",
    "for content in result:\n",
    "    soup = BeautifulSoup(str(content))\n",
    "    a = soup.find('a')\n",
    "    repo_list.append((a.get('href')))"
   ]
  },
  {
   "cell_type": "code",
   "execution_count": 222,
   "metadata": {},
   "outputs": [
    {
     "data": {
      "text/plain": [
       "['/keras-team/keras',\n",
       " '/neuralchen/SimSwap',\n",
       " '/programthink/zhao',\n",
       " '/jina-ai/jina',\n",
       " '/allenai/allennlp',\n",
       " '/yunjey/pytorch-tutorial',\n",
       " '/willmcgugan/rich',\n",
       " '/ultralytics/yolov5',\n",
       " '/PyTorchLightning/pytorch-lightning',\n",
       " '/dask/dask',\n",
       " '/streamlit/streamlit',\n",
       " '/willmcgugan/textual',\n",
       " '/mingrammer/diagrams',\n",
       " '/NVlabs/SegFormer',\n",
       " '/pypa/pip',\n",
       " '/kwai/DouZero',\n",
       " '/Gautam-J/Machine-Learning',\n",
       " '/bee-san/pyWhat',\n",
       " '/Endermanch/MalwareDatabase',\n",
       " '/bitcoinbook/bitcoinbook',\n",
       " '/geohot/tinygrad',\n",
       " '/proffalken/mventory',\n",
       " '/ageitgey/face_recognition',\n",
       " '/UKPLab/sentence-transformers',\n",
       " '/yqchilde/JDMemberCloseAccount']"
      ]
     },
     "execution_count": 222,
     "metadata": {},
     "output_type": "execute_result"
    }
   ],
   "source": [
    "repo_list"
   ]
  },
  {
   "cell_type": "markdown",
   "metadata": {},
   "source": [
    "#### 2. Display all the image links from Walt Disney wikipedia page.\n",
    "Hint: use `.get()` to access information inside tags. Check out the documentation."
   ]
  },
  {
   "cell_type": "code",
   "execution_count": 223,
   "metadata": {},
   "outputs": [],
   "source": [
    "# This is the url you will scrape in this exercise\n",
    "url = 'https://en.wikipedia.org/wiki/Walt_Disney'\n",
    "\n",
    "response = requests.get(url)\n",
    "\n",
    "data_html = response.content "
   ]
  },
  {
   "cell_type": "code",
   "execution_count": 224,
   "metadata": {},
   "outputs": [],
   "source": [
    "# your code here\n",
    "\n",
    "soup = BeautifulSoup(data_html)\n",
    "\n",
    "result = soup.find_all('img')\n"
   ]
  },
  {
   "cell_type": "code",
   "execution_count": 225,
   "metadata": {},
   "outputs": [
    {
     "data": {
      "text/plain": [
       "[<img alt=\"This is a featured article. Click here for more information.\" data-file-height=\"438\" data-file-width=\"462\" decoding=\"async\" height=\"19\" src=\"//upload.wikimedia.org/wikipedia/en/thumb/e/e7/Cscr-featured.svg/20px-Cscr-featured.svg.png\" srcset=\"//upload.wikimedia.org/wikipedia/en/thumb/e/e7/Cscr-featured.svg/30px-Cscr-featured.svg.png 1.5x, //upload.wikimedia.org/wikipedia/en/thumb/e/e7/Cscr-featured.svg/40px-Cscr-featured.svg.png 2x\" width=\"20\"/>,\n",
       " <img alt=\"Extended-protected article\" data-file-height=\"512\" data-file-width=\"512\" decoding=\"async\" height=\"20\" src=\"//upload.wikimedia.org/wikipedia/en/thumb/8/8c/Extended-protection-shackle.svg/20px-Extended-protection-shackle.svg.png\" srcset=\"//upload.wikimedia.org/wikipedia/en/thumb/8/8c/Extended-protection-shackle.svg/30px-Extended-protection-shackle.svg.png 1.5x, //upload.wikimedia.org/wikipedia/en/thumb/8/8c/Extended-protection-shackle.svg/40px-Extended-protection-shackle.svg.png 2x\" width=\"20\"/>,\n",
       " <img alt=\"Walt Disney 1946.JPG\" data-file-height=\"675\" data-file-width=\"450\" decoding=\"async\" height=\"330\" src=\"//upload.wikimedia.org/wikipedia/commons/thumb/d/df/Walt_Disney_1946.JPG/220px-Walt_Disney_1946.JPG\" srcset=\"//upload.wikimedia.org/wikipedia/commons/thumb/d/df/Walt_Disney_1946.JPG/330px-Walt_Disney_1946.JPG 1.5x, //upload.wikimedia.org/wikipedia/commons/thumb/d/df/Walt_Disney_1946.JPG/440px-Walt_Disney_1946.JPG 2x\" width=\"220\"/>,\n",
       " <img alt=\"Walt Disney 1942 signature.svg\" data-file-height=\"218\" data-file-width=\"585\" decoding=\"async\" height=\"56\" src=\"//upload.wikimedia.org/wikipedia/commons/thumb/8/87/Walt_Disney_1942_signature.svg/150px-Walt_Disney_1942_signature.svg.png\" srcset=\"//upload.wikimedia.org/wikipedia/commons/thumb/8/87/Walt_Disney_1942_signature.svg/225px-Walt_Disney_1942_signature.svg.png 1.5x, //upload.wikimedia.org/wikipedia/commons/thumb/8/87/Walt_Disney_1942_signature.svg/300px-Walt_Disney_1942_signature.svg.png 2x\" width=\"150\"/>,\n",
       " <img alt=\"\" class=\"thumbimage\" data-file-height=\"1086\" data-file-width=\"1576\" decoding=\"async\" height=\"152\" src=\"//upload.wikimedia.org/wikipedia/commons/thumb/c/c4/Walt_Disney_envelope_ca._1921.jpg/220px-Walt_Disney_envelope_ca._1921.jpg\" srcset=\"//upload.wikimedia.org/wikipedia/commons/thumb/c/c4/Walt_Disney_envelope_ca._1921.jpg/330px-Walt_Disney_envelope_ca._1921.jpg 1.5x, //upload.wikimedia.org/wikipedia/commons/thumb/c/c4/Walt_Disney_envelope_ca._1921.jpg/440px-Walt_Disney_envelope_ca._1921.jpg 2x\" width=\"220\"/>,\n",
       " <img alt=\"File:Newman Laugh-O-Gram (1921).webm\" src=\"//upload.wikimedia.org/wikipedia/commons/thumb/4/4d/Newman_Laugh-O-Gram_%281921%29.webm/220px-seek%3D2-Newman_Laugh-O-Gram_%281921%29.webm.jpg\" style=\"width:220px;height:165px\"/>,\n",
       " <img alt=\"A cartoon rabbit is driving a tramcar; other cartoon rabbits are in, under, on and around the car.\" class=\"thumbimage\" data-file-height=\"1600\" data-file-width=\"1202\" decoding=\"async\" height=\"226\" src=\"//upload.wikimedia.org/wikipedia/commons/thumb/0/0d/Trolley_Troubles_poster.jpg/170px-Trolley_Troubles_poster.jpg\" srcset=\"//upload.wikimedia.org/wikipedia/commons/thumb/0/0d/Trolley_Troubles_poster.jpg/255px-Trolley_Troubles_poster.jpg 1.5x, //upload.wikimedia.org/wikipedia/commons/thumb/0/0d/Trolley_Troubles_poster.jpg/340px-Trolley_Troubles_poster.jpg 2x\" width=\"170\"/>,\n",
       " <img alt=\"A cartoon mouse is operating a ship's steering wheel\" class=\"thumbimage\" data-file-height=\"267\" data-file-width=\"373\" decoding=\"async\" height=\"122\" src=\"//upload.wikimedia.org/wikipedia/en/thumb/4/4e/Steamboat-willie.jpg/170px-Steamboat-willie.jpg\" srcset=\"//upload.wikimedia.org/wikipedia/en/thumb/4/4e/Steamboat-willie.jpg/255px-Steamboat-willie.jpg 1.5x, //upload.wikimedia.org/wikipedia/en/thumb/4/4e/Steamboat-willie.jpg/340px-Steamboat-willie.jpg 2x\" width=\"170\"/>,\n",
       " <img alt=\"\" class=\"thumbimage\" data-file-height=\"451\" data-file-width=\"358\" decoding=\"async\" height=\"214\" src=\"//upload.wikimedia.org/wikipedia/commons/thumb/5/57/Walt_Disney_1935.jpg/170px-Walt_Disney_1935.jpg\" srcset=\"//upload.wikimedia.org/wikipedia/commons/thumb/5/57/Walt_Disney_1935.jpg/255px-Walt_Disney_1935.jpg 1.5x, //upload.wikimedia.org/wikipedia/commons/thumb/5/57/Walt_Disney_1935.jpg/340px-Walt_Disney_1935.jpg 2x\" width=\"170\"/>,\n",
       " <img alt=\"Walt Disney sits in front of a set of models of the seven dwarfs\" class=\"thumbimage\" data-file-height=\"388\" data-file-width=\"500\" decoding=\"async\" height=\"171\" src=\"//upload.wikimedia.org/wikipedia/commons/thumb/c/cd/Walt_Disney_Snow_white_1937_trailer_screenshot_%2813%29.jpg/220px-Walt_Disney_Snow_white_1937_trailer_screenshot_%2813%29.jpg\" srcset=\"//upload.wikimedia.org/wikipedia/commons/thumb/c/cd/Walt_Disney_Snow_white_1937_trailer_screenshot_%2813%29.jpg/330px-Walt_Disney_Snow_white_1937_trailer_screenshot_%2813%29.jpg 1.5x, //upload.wikimedia.org/wikipedia/commons/thumb/c/cd/Walt_Disney_Snow_white_1937_trailer_screenshot_%2813%29.jpg/440px-Walt_Disney_Snow_white_1937_trailer_screenshot_%2813%29.jpg 2x\" width=\"220\"/>,\n",
       " <img alt=\"\" class=\"thumbimage\" data-file-height=\"770\" data-file-width=\"600\" decoding=\"async\" height=\"218\" src=\"//upload.wikimedia.org/wikipedia/commons/thumb/1/15/Disney_drawing_goofy.jpg/170px-Disney_drawing_goofy.jpg\" srcset=\"//upload.wikimedia.org/wikipedia/commons/thumb/1/15/Disney_drawing_goofy.jpg/255px-Disney_drawing_goofy.jpg 1.5x, //upload.wikimedia.org/wikipedia/commons/thumb/1/15/Disney_drawing_goofy.jpg/340px-Disney_drawing_goofy.jpg 2x\" width=\"170\"/>,\n",
       " <img alt=\"\" class=\"thumbimage\" data-file-height=\"2493\" data-file-width=\"3247\" decoding=\"async\" height=\"169\" src=\"//upload.wikimedia.org/wikipedia/commons/thumb/1/13/DisneySchiphol1951.jpg/220px-DisneySchiphol1951.jpg\" srcset=\"//upload.wikimedia.org/wikipedia/commons/thumb/1/13/DisneySchiphol1951.jpg/330px-DisneySchiphol1951.jpg 1.5x, //upload.wikimedia.org/wikipedia/commons/thumb/1/13/DisneySchiphol1951.jpg/440px-DisneySchiphol1951.jpg 2x\" width=\"220\"/>,\n",
       " <img alt=\"\" class=\"thumbimage\" data-file-height=\"2417\" data-file-width=\"2723\" decoding=\"async\" height=\"195\" src=\"//upload.wikimedia.org/wikipedia/commons/thumb/8/8c/WaltDisneyplansDisneylandDec1954.jpg/220px-WaltDisneyplansDisneylandDec1954.jpg\" srcset=\"//upload.wikimedia.org/wikipedia/commons/thumb/8/8c/WaltDisneyplansDisneylandDec1954.jpg/330px-WaltDisneyplansDisneylandDec1954.jpg 1.5x, //upload.wikimedia.org/wikipedia/commons/thumb/8/8c/WaltDisneyplansDisneylandDec1954.jpg/440px-WaltDisneyplansDisneylandDec1954.jpg 2x\" width=\"220\"/>,\n",
       " <img alt=\"\" class=\"thumbimage\" data-file-height=\"902\" data-file-width=\"667\" decoding=\"async\" height=\"230\" src=\"//upload.wikimedia.org/wikipedia/commons/thumb/f/ff/Walt_disney_portrait_right.jpg/170px-Walt_disney_portrait_right.jpg\" srcset=\"//upload.wikimedia.org/wikipedia/commons/thumb/f/ff/Walt_disney_portrait_right.jpg/255px-Walt_disney_portrait_right.jpg 1.5x, //upload.wikimedia.org/wikipedia/commons/thumb/f/ff/Walt_disney_portrait_right.jpg/340px-Walt_disney_portrait_right.jpg 2x\" width=\"170\"/>,\n",
       " <img alt=\"A gravestone inscribed 'Walter Elias Disney', 'Lillian Bounds Disney', 'Robert B. Brown', Sharon Disney Brown Lund ashes scattered in paradise'\" class=\"thumbimage\" data-file-height=\"1700\" data-file-width=\"1400\" decoding=\"async\" height=\"206\" src=\"//upload.wikimedia.org/wikipedia/commons/thumb/1/1a/Walt_Disney_Grave.JPG/170px-Walt_Disney_Grave.JPG\" srcset=\"//upload.wikimedia.org/wikipedia/commons/thumb/1/1a/Walt_Disney_Grave.JPG/255px-Walt_Disney_Grave.JPG 1.5x, //upload.wikimedia.org/wikipedia/commons/thumb/1/1a/Walt_Disney_Grave.JPG/340px-Walt_Disney_Grave.JPG 2x\" width=\"170\"/>,\n",
       " <img alt=\"\" class=\"thumbimage\" data-file-height=\"275\" data-file-width=\"220\" decoding=\"async\" height=\"213\" src=\"//upload.wikimedia.org/wikipedia/commons/thumb/2/2d/Roy_O._Disney_with_Company_at_Press_Conference.jpg/170px-Roy_O._Disney_with_Company_at_Press_Conference.jpg\" srcset=\"//upload.wikimedia.org/wikipedia/commons/2/2d/Roy_O._Disney_with_Company_at_Press_Conference.jpg 1.5x\" width=\"170\"/>,\n",
       " <img alt=\"\" class=\"thumbimage\" data-file-height=\"3025\" data-file-width=\"1927\" decoding=\"async\" height=\"267\" src=\"//upload.wikimedia.org/wikipedia/commons/thumb/a/a9/Disney_Display_Case.JPG/170px-Disney_Display_Case.JPG\" srcset=\"//upload.wikimedia.org/wikipedia/commons/thumb/a/a9/Disney_Display_Case.JPG/255px-Disney_Display_Case.JPG 1.5x, //upload.wikimedia.org/wikipedia/commons/thumb/a/a9/Disney_Display_Case.JPG/340px-Disney_Display_Case.JPG 2x\" width=\"170\"/>,\n",
       " <img alt=\"A portrait of Disney with cartoon representations of different nationalities on a 6 cent US stamp\" class=\"thumbimage\" data-file-height=\"736\" data-file-width=\"483\" decoding=\"async\" height=\"259\" src=\"//upload.wikimedia.org/wikipedia/commons/thumb/6/6c/Disney1968.jpg/170px-Disney1968.jpg\" srcset=\"//upload.wikimedia.org/wikipedia/commons/thumb/6/6c/Disney1968.jpg/255px-Disney1968.jpg 1.5x, //upload.wikimedia.org/wikipedia/commons/thumb/6/6c/Disney1968.jpg/340px-Disney1968.jpg 2x\" width=\"170\"/>,\n",
       " <img alt=\"Edit this at Wikidata\" data-file-height=\"20\" data-file-width=\"20\" decoding=\"async\" height=\"10\" src=\"//upload.wikimedia.org/wikipedia/en/thumb/8/8a/OOjs_UI_icon_edit-ltr-progressive.svg/10px-OOjs_UI_icon_edit-ltr-progressive.svg.png\" srcset=\"//upload.wikimedia.org/wikipedia/en/thumb/8/8a/OOjs_UI_icon_edit-ltr-progressive.svg/15px-OOjs_UI_icon_edit-ltr-progressive.svg.png 1.5x, //upload.wikimedia.org/wikipedia/en/thumb/8/8a/OOjs_UI_icon_edit-ltr-progressive.svg/20px-OOjs_UI_icon_edit-ltr-progressive.svg.png 2x\" style=\"vertical-align: text-top\" width=\"10\"/>,\n",
       " <img alt=\"Disneyland Resort logo.svg\" data-file-height=\"66\" data-file-width=\"267\" decoding=\"async\" height=\"33\" src=\"//upload.wikimedia.org/wikipedia/commons/thumb/e/e3/Disneyland_Resort_logo.svg/135px-Disneyland_Resort_logo.svg.png\" srcset=\"//upload.wikimedia.org/wikipedia/commons/thumb/e/e3/Disneyland_Resort_logo.svg/203px-Disneyland_Resort_logo.svg.png 1.5x, //upload.wikimedia.org/wikipedia/commons/thumb/e/e3/Disneyland_Resort_logo.svg/270px-Disneyland_Resort_logo.svg.png 2x\" width=\"135\"/>,\n",
       " <img alt=\"Animation disc.svg\" data-file-height=\"28\" data-file-width=\"30\" decoding=\"async\" height=\"28\" src=\"//upload.wikimedia.org/wikipedia/commons/thumb/d/da/Animation_disc.svg/30px-Animation_disc.svg.png\" srcset=\"//upload.wikimedia.org/wikipedia/commons/thumb/d/da/Animation_disc.svg/45px-Animation_disc.svg.png 1.5x, //upload.wikimedia.org/wikipedia/commons/thumb/d/da/Animation_disc.svg/60px-Animation_disc.svg.png 2x\" width=\"30\"/>,\n",
       " <img alt=\"P vip.svg\" data-file-height=\"1944\" data-file-width=\"1911\" decoding=\"async\" height=\"30\" src=\"//upload.wikimedia.org/wikipedia/en/thumb/6/69/P_vip.svg/29px-P_vip.svg.png\" srcset=\"//upload.wikimedia.org/wikipedia/en/thumb/6/69/P_vip.svg/44px-P_vip.svg.png 1.5x, //upload.wikimedia.org/wikipedia/en/thumb/6/69/P_vip.svg/59px-P_vip.svg.png 2x\" width=\"29\"/>,\n",
       " <img alt=\"Magic Kingdom castle.jpg\" data-file-height=\"1545\" data-file-width=\"1262\" decoding=\"async\" height=\"30\" src=\"//upload.wikimedia.org/wikipedia/commons/thumb/1/1a/Magic_Kingdom_castle.jpg/24px-Magic_Kingdom_castle.jpg\" srcset=\"//upload.wikimedia.org/wikipedia/commons/thumb/1/1a/Magic_Kingdom_castle.jpg/37px-Magic_Kingdom_castle.jpg 1.5x, //upload.wikimedia.org/wikipedia/commons/thumb/1/1a/Magic_Kingdom_castle.jpg/49px-Magic_Kingdom_castle.jpg 2x\" width=\"24\"/>,\n",
       " <img alt=\"Video-x-generic.svg\" data-file-height=\"48\" data-file-width=\"48\" decoding=\"async\" height=\"30\" src=\"//upload.wikimedia.org/wikipedia/en/thumb/e/e7/Video-x-generic.svg/30px-Video-x-generic.svg.png\" srcset=\"//upload.wikimedia.org/wikipedia/en/thumb/e/e7/Video-x-generic.svg/45px-Video-x-generic.svg.png 1.5x, //upload.wikimedia.org/wikipedia/en/thumb/e/e7/Video-x-generic.svg/60px-Video-x-generic.svg.png 2x\" width=\"30\"/>,\n",
       " <img alt=\"Flag of Los Angeles County, California.svg\" data-file-height=\"913\" data-file-width=\"1522\" decoding=\"async\" height=\"18\" src=\"//upload.wikimedia.org/wikipedia/commons/thumb/a/a3/Flag_of_Los_Angeles_County%2C_California.svg/30px-Flag_of_Los_Angeles_County%2C_California.svg.png\" srcset=\"//upload.wikimedia.org/wikipedia/commons/thumb/a/a3/Flag_of_Los_Angeles_County%2C_California.svg/45px-Flag_of_Los_Angeles_County%2C_California.svg.png 1.5x, //upload.wikimedia.org/wikipedia/commons/thumb/a/a3/Flag_of_Los_Angeles_County%2C_California.svg/60px-Flag_of_Los_Angeles_County%2C_California.svg.png 2x\" width=\"30\"/>,\n",
       " <img alt=\"Blank television set.svg\" data-file-height=\"92\" data-file-width=\"138\" decoding=\"async\" height=\"20\" src=\"//upload.wikimedia.org/wikipedia/commons/thumb/8/8c/Blank_television_set.svg/30px-Blank_television_set.svg.png\" srcset=\"//upload.wikimedia.org/wikipedia/commons/thumb/8/8c/Blank_television_set.svg/45px-Blank_television_set.svg.png 1.5x, //upload.wikimedia.org/wikipedia/commons/thumb/8/8c/Blank_television_set.svg/60px-Blank_television_set.svg.png 2x\" width=\"30\"/>,\n",
       " <img alt=\"Flag of the United States.svg\" data-file-height=\"650\" data-file-width=\"1235\" decoding=\"async\" height=\"16\" src=\"//upload.wikimedia.org/wikipedia/en/thumb/a/a4/Flag_of_the_United_States.svg/30px-Flag_of_the_United_States.svg.png\" srcset=\"//upload.wikimedia.org/wikipedia/en/thumb/a/a4/Flag_of_the_United_States.svg/45px-Flag_of_the_United_States.svg.png 1.5x, //upload.wikimedia.org/wikipedia/en/thumb/a/a4/Flag_of_the_United_States.svg/60px-Flag_of_the_United_States.svg.png 2x\" width=\"30\"/>,\n",
       " <img alt=\"\" data-file-height=\"1376\" data-file-width=\"1024\" decoding=\"async\" height=\"30\" src=\"//upload.wikimedia.org/wikipedia/en/thumb/4/4a/Commons-logo.svg/22px-Commons-logo.svg.png\" srcset=\"//upload.wikimedia.org/wikipedia/en/thumb/4/4a/Commons-logo.svg/33px-Commons-logo.svg.png 1.5x, //upload.wikimedia.org/wikipedia/en/thumb/4/4a/Commons-logo.svg/45px-Commons-logo.svg.png 2x\" width=\"22\"/>,\n",
       " <img alt=\"\" data-file-height=\"355\" data-file-width=\"300\" decoding=\"async\" height=\"30\" src=\"//upload.wikimedia.org/wikipedia/commons/thumb/f/fa/Wikiquote-logo.svg/25px-Wikiquote-logo.svg.png\" srcset=\"//upload.wikimedia.org/wikipedia/commons/thumb/f/fa/Wikiquote-logo.svg/38px-Wikiquote-logo.svg.png 1.5x, //upload.wikimedia.org/wikipedia/commons/thumb/f/fa/Wikiquote-logo.svg/51px-Wikiquote-logo.svg.png 2x\" width=\"25\"/>,\n",
       " <img alt=\"\" data-file-height=\"590\" data-file-width=\"1050\" decoding=\"async\" height=\"17\" src=\"//upload.wikimedia.org/wikipedia/commons/thumb/f/ff/Wikidata-logo.svg/30px-Wikidata-logo.svg.png\" srcset=\"//upload.wikimedia.org/wikipedia/commons/thumb/f/ff/Wikidata-logo.svg/45px-Wikidata-logo.svg.png 1.5x, //upload.wikimedia.org/wikipedia/commons/thumb/f/ff/Wikidata-logo.svg/60px-Wikidata-logo.svg.png 2x\" width=\"30\"/>,\n",
       " <img alt=\"Edit this at Wikidata\" data-file-height=\"20\" data-file-width=\"20\" decoding=\"async\" height=\"10\" src=\"//upload.wikimedia.org/wikipedia/en/thumb/8/8a/OOjs_UI_icon_edit-ltr-progressive.svg/10px-OOjs_UI_icon_edit-ltr-progressive.svg.png\" srcset=\"//upload.wikimedia.org/wikipedia/en/thumb/8/8a/OOjs_UI_icon_edit-ltr-progressive.svg/15px-OOjs_UI_icon_edit-ltr-progressive.svg.png 1.5x, //upload.wikimedia.org/wikipedia/en/thumb/8/8a/OOjs_UI_icon_edit-ltr-progressive.svg/20px-OOjs_UI_icon_edit-ltr-progressive.svg.png 2x\" style=\"vertical-align: text-top\" width=\"10\"/>,\n",
       " <img alt=\"\" height=\"1\" src=\"//en.wikipedia.org/wiki/Special:CentralAutoLogin/start?type=1x1\" style=\"border: none; position: absolute;\" title=\"\" width=\"1\"/>,\n",
       " <img alt=\"Wikimedia Foundation\" height=\"31\" loading=\"lazy\" src=\"/static/images/footer/wikimedia-button.png\" srcset=\"/static/images/footer/wikimedia-button-1.5x.png 1.5x, /static/images/footer/wikimedia-button-2x.png 2x\" width=\"88\"/>,\n",
       " <img alt=\"Powered by MediaWiki\" height=\"31\" loading=\"lazy\" src=\"/static/images/footer/poweredby_mediawiki_88x31.png\" srcset=\"/static/images/footer/poweredby_mediawiki_132x47.png 1.5x, /static/images/footer/poweredby_mediawiki_176x62.png 2x\" width=\"88\"/>]"
      ]
     },
     "execution_count": 225,
     "metadata": {},
     "output_type": "execute_result"
    }
   ],
   "source": [
    "result"
   ]
  },
  {
   "cell_type": "code",
   "execution_count": 226,
   "metadata": {},
   "outputs": [],
   "source": [
    "images_list = []\n",
    "\n",
    "for img in result:\n",
    "    images_list.append('https:' + str(img.get('src')))\n",
    "    "
   ]
  },
  {
   "cell_type": "code",
   "execution_count": 227,
   "metadata": {},
   "outputs": [
    {
     "data": {
      "text/plain": [
       "['https://upload.wikimedia.org/wikipedia/en/thumb/e/e7/Cscr-featured.svg/20px-Cscr-featured.svg.png',\n",
       " 'https://upload.wikimedia.org/wikipedia/en/thumb/8/8c/Extended-protection-shackle.svg/20px-Extended-protection-shackle.svg.png',\n",
       " 'https://upload.wikimedia.org/wikipedia/commons/thumb/d/df/Walt_Disney_1946.JPG/220px-Walt_Disney_1946.JPG',\n",
       " 'https://upload.wikimedia.org/wikipedia/commons/thumb/8/87/Walt_Disney_1942_signature.svg/150px-Walt_Disney_1942_signature.svg.png',\n",
       " 'https://upload.wikimedia.org/wikipedia/commons/thumb/c/c4/Walt_Disney_envelope_ca._1921.jpg/220px-Walt_Disney_envelope_ca._1921.jpg',\n",
       " 'https://upload.wikimedia.org/wikipedia/commons/thumb/4/4d/Newman_Laugh-O-Gram_%281921%29.webm/220px-seek%3D2-Newman_Laugh-O-Gram_%281921%29.webm.jpg',\n",
       " 'https://upload.wikimedia.org/wikipedia/commons/thumb/0/0d/Trolley_Troubles_poster.jpg/170px-Trolley_Troubles_poster.jpg',\n",
       " 'https://upload.wikimedia.org/wikipedia/en/thumb/4/4e/Steamboat-willie.jpg/170px-Steamboat-willie.jpg',\n",
       " 'https://upload.wikimedia.org/wikipedia/commons/thumb/5/57/Walt_Disney_1935.jpg/170px-Walt_Disney_1935.jpg',\n",
       " 'https://upload.wikimedia.org/wikipedia/commons/thumb/c/cd/Walt_Disney_Snow_white_1937_trailer_screenshot_%2813%29.jpg/220px-Walt_Disney_Snow_white_1937_trailer_screenshot_%2813%29.jpg',\n",
       " 'https://upload.wikimedia.org/wikipedia/commons/thumb/1/15/Disney_drawing_goofy.jpg/170px-Disney_drawing_goofy.jpg',\n",
       " 'https://upload.wikimedia.org/wikipedia/commons/thumb/1/13/DisneySchiphol1951.jpg/220px-DisneySchiphol1951.jpg',\n",
       " 'https://upload.wikimedia.org/wikipedia/commons/thumb/8/8c/WaltDisneyplansDisneylandDec1954.jpg/220px-WaltDisneyplansDisneylandDec1954.jpg',\n",
       " 'https://upload.wikimedia.org/wikipedia/commons/thumb/f/ff/Walt_disney_portrait_right.jpg/170px-Walt_disney_portrait_right.jpg',\n",
       " 'https://upload.wikimedia.org/wikipedia/commons/thumb/1/1a/Walt_Disney_Grave.JPG/170px-Walt_Disney_Grave.JPG',\n",
       " 'https://upload.wikimedia.org/wikipedia/commons/thumb/2/2d/Roy_O._Disney_with_Company_at_Press_Conference.jpg/170px-Roy_O._Disney_with_Company_at_Press_Conference.jpg',\n",
       " 'https://upload.wikimedia.org/wikipedia/commons/thumb/a/a9/Disney_Display_Case.JPG/170px-Disney_Display_Case.JPG',\n",
       " 'https://upload.wikimedia.org/wikipedia/commons/thumb/6/6c/Disney1968.jpg/170px-Disney1968.jpg',\n",
       " 'https://upload.wikimedia.org/wikipedia/en/thumb/8/8a/OOjs_UI_icon_edit-ltr-progressive.svg/10px-OOjs_UI_icon_edit-ltr-progressive.svg.png',\n",
       " 'https://upload.wikimedia.org/wikipedia/commons/thumb/e/e3/Disneyland_Resort_logo.svg/135px-Disneyland_Resort_logo.svg.png',\n",
       " 'https://upload.wikimedia.org/wikipedia/commons/thumb/d/da/Animation_disc.svg/30px-Animation_disc.svg.png',\n",
       " 'https://upload.wikimedia.org/wikipedia/en/thumb/6/69/P_vip.svg/29px-P_vip.svg.png',\n",
       " 'https://upload.wikimedia.org/wikipedia/commons/thumb/1/1a/Magic_Kingdom_castle.jpg/24px-Magic_Kingdom_castle.jpg',\n",
       " 'https://upload.wikimedia.org/wikipedia/en/thumb/e/e7/Video-x-generic.svg/30px-Video-x-generic.svg.png',\n",
       " 'https://upload.wikimedia.org/wikipedia/commons/thumb/a/a3/Flag_of_Los_Angeles_County%2C_California.svg/30px-Flag_of_Los_Angeles_County%2C_California.svg.png',\n",
       " 'https://upload.wikimedia.org/wikipedia/commons/thumb/8/8c/Blank_television_set.svg/30px-Blank_television_set.svg.png',\n",
       " 'https://upload.wikimedia.org/wikipedia/en/thumb/a/a4/Flag_of_the_United_States.svg/30px-Flag_of_the_United_States.svg.png',\n",
       " 'https://upload.wikimedia.org/wikipedia/en/thumb/4/4a/Commons-logo.svg/22px-Commons-logo.svg.png',\n",
       " 'https://upload.wikimedia.org/wikipedia/commons/thumb/f/fa/Wikiquote-logo.svg/25px-Wikiquote-logo.svg.png',\n",
       " 'https://upload.wikimedia.org/wikipedia/commons/thumb/f/ff/Wikidata-logo.svg/30px-Wikidata-logo.svg.png',\n",
       " 'https://upload.wikimedia.org/wikipedia/en/thumb/8/8a/OOjs_UI_icon_edit-ltr-progressive.svg/10px-OOjs_UI_icon_edit-ltr-progressive.svg.png',\n",
       " 'https://en.wikipedia.org/wiki/Special:CentralAutoLogin/start?type=1x1',\n",
       " 'https:/static/images/footer/wikimedia-button.png',\n",
       " 'https:/static/images/footer/poweredby_mediawiki_88x31.png']"
      ]
     },
     "execution_count": 227,
     "metadata": {},
     "output_type": "execute_result"
    }
   ],
   "source": [
    "images_list"
   ]
  },
  {
   "cell_type": "markdown",
   "metadata": {},
   "source": [
    "#### 2.1. List all language names and number of related articles in the order they appear in wikipedia.org."
   ]
  },
  {
   "cell_type": "code",
   "execution_count": 228,
   "metadata": {},
   "outputs": [],
   "source": [
    "# This is the url you will scrape in this exercise\n",
    "url = 'https://www.wikipedia.org/'\n",
    "\n",
    "response = requests.get(url)\n",
    "\n",
    "data_html = response.content "
   ]
  },
  {
   "cell_type": "code",
   "execution_count": 229,
   "metadata": {},
   "outputs": [],
   "source": [
    "# your code here\n",
    "\n",
    "soup = BeautifulSoup(data_html)\n",
    "\n",
    "result = soup.find_all('strong')\n",
    "\n"
   ]
  },
  {
   "cell_type": "code",
   "execution_count": 230,
   "metadata": {},
   "outputs": [],
   "source": [
    "languages_list = []\n",
    "\n",
    "for element in result:\n",
    "    languages_list.append(element.text)"
   ]
  },
  {
   "cell_type": "code",
   "execution_count": 231,
   "metadata": {},
   "outputs": [],
   "source": [
    "languages_list = languages_list[1:-1]"
   ]
  },
  {
   "cell_type": "code",
   "execution_count": 232,
   "metadata": {},
   "outputs": [
    {
     "data": {
      "text/plain": [
       "['English',\n",
       " '日本語',\n",
       " 'Español',\n",
       " 'Deutsch',\n",
       " 'Русский',\n",
       " 'Français',\n",
       " '中文',\n",
       " 'Italiano',\n",
       " 'Português',\n",
       " 'Polski']"
      ]
     },
     "execution_count": 232,
     "metadata": {},
     "output_type": "execute_result"
    }
   ],
   "source": [
    "languages_list"
   ]
  },
  {
   "cell_type": "markdown",
   "metadata": {},
   "source": [
    "#### 2.2. Display the top 10 languages by number of native speakers stored in a pandas dataframe.\n",
    "Hint: After finding the correct table you want to analyse, you can use a nested **for** loop to find the elements row by row (check out the 'td' and 'tr' tags). <br>An easier way to do it is using pd.read_html(), check out documentation [here](https://pandas.pydata.org/pandas-docs/version/0.23.4/generated/pandas.read_html.html)."
   ]
  },
  {
   "cell_type": "code",
   "execution_count": 233,
   "metadata": {},
   "outputs": [],
   "source": [
    "# This is the url you will scrape in this exercise\n",
    "url = 'https://en.wikipedia.org/wiki/List_of_languages_by_number_of_native_speakers'\n",
    "\n",
    "response = requests.get(url)\n",
    "\n",
    "data_html = response.content "
   ]
  },
  {
   "cell_type": "code",
   "execution_count": 234,
   "metadata": {},
   "outputs": [],
   "source": [
    "# your code here\n",
    "\n",
    "soup = BeautifulSoup(data_html)\n",
    "\n",
    "result = soup.find_all('table')\n"
   ]
  },
  {
   "cell_type": "code",
   "execution_count": 235,
   "metadata": {},
   "outputs": [],
   "source": [
    "result = result[1]"
   ]
  },
  {
   "cell_type": "code",
   "execution_count": 236,
   "metadata": {},
   "outputs": [],
   "source": [
    "languages_spoken = result.find_all('a')"
   ]
  },
  {
   "cell_type": "code",
   "execution_count": 237,
   "metadata": {},
   "outputs": [],
   "source": [
    "languages = []"
   ]
  },
  {
   "cell_type": "code",
   "execution_count": 238,
   "metadata": {},
   "outputs": [],
   "source": [
    "for language in languages_spoken:\n",
    "    languages.append(language.text)"
   ]
  },
  {
   "cell_type": "code",
   "execution_count": 239,
   "metadata": {},
   "outputs": [
    {
     "data": {
      "text/plain": [
       "['[7]',\n",
       " '[8]',\n",
       " 'Mandarin Chinese',\n",
       " 'Sino-Tibetan',\n",
       " 'Sinitic',\n",
       " 'Spanish',\n",
       " 'Indo-European',\n",
       " 'Romance',\n",
       " 'English',\n",
       " 'Indo-European',\n",
       " 'Germanic',\n",
       " 'Hindi',\n",
       " 'Hindustani',\n",
       " '[9]',\n",
       " 'Indo-European',\n",
       " 'Indo-Aryan',\n",
       " 'Bengali',\n",
       " 'Indo-European',\n",
       " 'Indo-Aryan',\n",
       " 'Portuguese',\n",
       " 'Indo-European',\n",
       " 'Romance',\n",
       " 'Russian',\n",
       " 'Indo-European',\n",
       " 'Balto-Slavic',\n",
       " 'Japanese',\n",
       " 'Japonic',\n",
       " 'Japanese',\n",
       " 'Western Punjabi',\n",
       " '[10]',\n",
       " 'Indo-European',\n",
       " 'Indo-Aryan',\n",
       " 'Marathi',\n",
       " 'Indo-European',\n",
       " 'Indo-Aryan',\n",
       " 'Telugu',\n",
       " 'Dravidian',\n",
       " 'South-Central',\n",
       " 'Wu Chinese',\n",
       " 'Sino-Tibetan',\n",
       " 'Sinitic',\n",
       " 'Turkish',\n",
       " 'Turkic',\n",
       " 'Oghuz',\n",
       " 'Korean',\n",
       " 'Koreanic',\n",
       " 'language isolate',\n",
       " 'French',\n",
       " 'Indo-European',\n",
       " 'Romance',\n",
       " 'German',\n",
       " 'Standard German',\n",
       " 'Indo-European',\n",
       " 'Germanic',\n",
       " 'Vietnamese',\n",
       " 'Austroasiatic',\n",
       " 'Vietic',\n",
       " 'Tamil',\n",
       " 'Dravidian',\n",
       " 'South',\n",
       " 'Yue Chinese',\n",
       " 'Sino-Tibetan',\n",
       " 'Sinitic',\n",
       " 'Urdu',\n",
       " 'Hindustani',\n",
       " '[9]',\n",
       " 'Indo-European',\n",
       " 'Indo-Aryan',\n",
       " 'Javanese',\n",
       " 'Austronesian',\n",
       " 'Malayo-Polynesian',\n",
       " 'Italian',\n",
       " 'Indo-European',\n",
       " 'Romance',\n",
       " 'Egyptian Arabic',\n",
       " 'Afroasiatic',\n",
       " 'Semitic',\n",
       " 'Gujarati',\n",
       " 'Indo-European',\n",
       " 'Indo-Aryan',\n",
       " 'Iranian Persian',\n",
       " 'Indo-European',\n",
       " 'Iranian',\n",
       " 'Bhojpuri',\n",
       " 'Indo-European',\n",
       " 'Indo-Aryan',\n",
       " 'Min Nan Chinese',\n",
       " 'Sino-Tibetan',\n",
       " 'Sinitic',\n",
       " 'Hakka Chinese',\n",
       " 'Sino-Tibetan',\n",
       " 'Sinitic',\n",
       " 'Jin Chinese',\n",
       " 'Sino-Tibetan',\n",
       " 'Sinitic',\n",
       " 'Hausa',\n",
       " 'Afroasiatic',\n",
       " 'Chadic',\n",
       " 'Kannada',\n",
       " 'Dravidian',\n",
       " 'South',\n",
       " 'Indonesian',\n",
       " 'Malay',\n",
       " 'Austronesian',\n",
       " 'Malayo-Polynesian',\n",
       " 'Polish',\n",
       " 'Indo-European',\n",
       " 'Balto-Slavic',\n",
       " 'Yoruba',\n",
       " 'Niger–Congo',\n",
       " 'Volta–Niger',\n",
       " 'Xiang Chinese',\n",
       " 'Sino-Tibetan',\n",
       " 'Sinitic',\n",
       " 'Malayalam',\n",
       " 'Dravidian',\n",
       " 'South',\n",
       " 'Odia',\n",
       " 'Indo-European',\n",
       " 'Indo-Aryan',\n",
       " 'Maithili',\n",
       " 'Indo-European',\n",
       " 'Indo-Aryan',\n",
       " 'Burmese',\n",
       " 'Sino-Tibetan',\n",
       " 'Lolo-Burmese',\n",
       " 'Eastern Punjabi',\n",
       " '[10]',\n",
       " 'Indo-European',\n",
       " 'Indo-Aryan',\n",
       " 'Sunda',\n",
       " 'Austronesian',\n",
       " 'Malayo-Polynesian',\n",
       " 'Sudanese Arabic',\n",
       " 'Afroasiatic',\n",
       " 'Semitic',\n",
       " 'Algerian Arabic',\n",
       " 'Afroasiatic',\n",
       " 'Semitic',\n",
       " 'Moroccan Arabic',\n",
       " 'Afroasiatic',\n",
       " 'Semitic',\n",
       " 'Ukrainian',\n",
       " 'Indo-European',\n",
       " 'Balto-Slavic',\n",
       " 'Igbo',\n",
       " 'Niger–Congo',\n",
       " 'Volta–Niger',\n",
       " 'Northern Uzbek',\n",
       " 'Turkic',\n",
       " 'Karluk',\n",
       " 'Sindhi',\n",
       " 'Indo-European',\n",
       " 'Indo-Aryan',\n",
       " 'North Levantine Arabic',\n",
       " 'Afroasiatic',\n",
       " 'Semitic',\n",
       " 'Romanian',\n",
       " 'Indo-European',\n",
       " 'Romance',\n",
       " 'Tagalog',\n",
       " 'Austronesian',\n",
       " 'Malayo-Polynesian',\n",
       " 'Dutch',\n",
       " 'Indo-European',\n",
       " 'Germanic',\n",
       " 'Saʽidi Arabic',\n",
       " 'Afroasiatic',\n",
       " 'Semitic',\n",
       " 'Gan Chinese',\n",
       " 'Sino-Tibetan',\n",
       " 'Sinitic',\n",
       " 'Amharic',\n",
       " 'Afroasiatic',\n",
       " 'Semitic',\n",
       " 'Northern Pashto',\n",
       " 'Indo-European',\n",
       " 'Iranian',\n",
       " 'Magahi',\n",
       " 'Indo-European',\n",
       " 'Indo-Aryan',\n",
       " 'Thai',\n",
       " 'Kra–Dai',\n",
       " 'Tai',\n",
       " 'Saraiki',\n",
       " 'Indo-European',\n",
       " 'Indo-Aryan',\n",
       " 'Khmer',\n",
       " 'Austroasiatic',\n",
       " 'Khmer',\n",
       " 'Chhattisgarhi',\n",
       " 'Indo-European',\n",
       " 'Indo-Aryan',\n",
       " 'Somali',\n",
       " 'Afroasiatic',\n",
       " 'Cushitic',\n",
       " 'Malaysian',\n",
       " 'Malay',\n",
       " 'Austronesian',\n",
       " 'Malayo-Polynesian',\n",
       " 'Cebuano',\n",
       " 'Austronesian',\n",
       " 'Malayo-Polynesian',\n",
       " 'Nepali',\n",
       " 'Indo-European',\n",
       " 'Indo-Aryan',\n",
       " 'Mesopotamian Arabic',\n",
       " 'Afroasiatic',\n",
       " 'Semitic',\n",
       " 'Assamese',\n",
       " 'Indo-European',\n",
       " 'Indo-Aryan',\n",
       " 'Sinhalese',\n",
       " 'Indo-European',\n",
       " 'Indo-Aryan',\n",
       " 'Northern Kurdish',\n",
       " 'Indo-European',\n",
       " 'Iranian',\n",
       " 'Hejazi Arabic',\n",
       " 'Afroasiatic',\n",
       " 'Semitic',\n",
       " 'Nigerian Fulfulde',\n",
       " 'Niger–Congo',\n",
       " 'Senegambian',\n",
       " 'Bavarian',\n",
       " 'Indo-European',\n",
       " 'Germanic',\n",
       " 'South Azerbaijani',\n",
       " 'Turkic',\n",
       " 'Oghuz',\n",
       " 'Greek',\n",
       " 'Indo-European',\n",
       " 'Hellenic',\n",
       " 'Chittagonian',\n",
       " 'Indo-European',\n",
       " 'Indo-Aryan',\n",
       " 'Kazakh',\n",
       " 'Turkic',\n",
       " 'Kipchak',\n",
       " 'Deccan',\n",
       " 'Indo-European',\n",
       " 'Indo-Aryan',\n",
       " 'Hungarian',\n",
       " 'Uralic',\n",
       " 'Ugric',\n",
       " 'Kinyarwanda',\n",
       " 'Niger–Congo',\n",
       " 'Bantu',\n",
       " 'Zulu',\n",
       " 'Niger–Congo',\n",
       " 'Bantu',\n",
       " 'South Levantine Arabic',\n",
       " 'Afroasiatic',\n",
       " 'Semitic',\n",
       " 'Tunisian Arabic',\n",
       " 'Afroasiatic',\n",
       " 'Semitic',\n",
       " 'Sanaani Spoken Arabic',\n",
       " 'Afroasiatic',\n",
       " 'Semitic',\n",
       " 'Min Bei Chinese',\n",
       " 'Sino-Tibetan',\n",
       " 'Sinitic',\n",
       " 'Southern Pashto',\n",
       " 'Indo-European',\n",
       " 'Iranian',\n",
       " 'Rundi',\n",
       " 'Niger–Congo',\n",
       " 'Bantu',\n",
       " 'Czech',\n",
       " 'Indo-European',\n",
       " 'Balto-Slavic',\n",
       " 'Taʽizzi-Adeni Arabic',\n",
       " 'Afroasiatic',\n",
       " 'Semitic',\n",
       " 'Uyghur',\n",
       " 'Turkic',\n",
       " 'Karluk',\n",
       " 'Min Dong Chinese',\n",
       " 'Sino-Tibetan',\n",
       " 'Sinitic',\n",
       " 'Sylheti',\n",
       " 'Indo-European',\n",
       " 'Indo-Aryan']"
      ]
     },
     "execution_count": 239,
     "metadata": {},
     "output_type": "execute_result"
    }
   ],
   "source": [
    "languages"
   ]
  },
  {
   "cell_type": "markdown",
   "metadata": {},
   "source": [
    "#### 3. Display IMDB's top 250 data (movie name, initial release, director name and stars) as a pandas dataframe.\n",
    "Hint: If you hover over the title of the movie, you should see the director's name. Can you find where it's stored in the html?"
   ]
  },
  {
   "cell_type": "code",
   "execution_count": 240,
   "metadata": {},
   "outputs": [],
   "source": [
    "# This is the url you will scrape in this exercise \n",
    "url = 'https://www.imdb.com/chart/top'\n",
    "\n",
    "response = requests.get(url)\n",
    "\n",
    "data_html = response.content\n"
   ]
  },
  {
   "cell_type": "code",
   "execution_count": 241,
   "metadata": {},
   "outputs": [],
   "source": [
    "# your code here\n",
    "\n",
    "soup = BeautifulSoup(data_html)\n"
   ]
  },
  {
   "cell_type": "code",
   "execution_count": 242,
   "metadata": {},
   "outputs": [],
   "source": [
    "films = soup.find_all('td', attrs={'class':'titleColumn'})\n",
    "\n",
    "title = []\n",
    "\n",
    "for element in films:\n",
    "    title.append((element.find_all('a')))"
   ]
  },
  {
   "cell_type": "code",
   "execution_count": 243,
   "metadata": {},
   "outputs": [],
   "source": [
    "directors_clean = []\n",
    "\n",
    "for element in title:\n",
    "    for subelement in element:\n",
    "        directors_clean.append(subelement.get('title'))"
   ]
  },
  {
   "cell_type": "code",
   "execution_count": 244,
   "metadata": {},
   "outputs": [],
   "source": [
    "title_clean = []\n",
    "\n",
    "for element in title:\n",
    "    for titles in element:\n",
    "        title_clean.append(titles.text)"
   ]
  },
  {
   "cell_type": "code",
   "execution_count": 245,
   "metadata": {},
   "outputs": [],
   "source": [
    "initial_release = []\n",
    "\n",
    "for element in films:\n",
    "    initial_release.append((element.find_all('span')))"
   ]
  },
  {
   "cell_type": "code",
   "execution_count": 246,
   "metadata": {},
   "outputs": [],
   "source": [
    "initial_release_clean = []\n",
    "\n",
    "for element in initial_release:\n",
    "    for subelement in element:\n",
    "        initial_release_clean.append(subelement.text)"
   ]
  },
  {
   "cell_type": "code",
   "execution_count": 247,
   "metadata": {},
   "outputs": [
    {
     "data": {
      "text/plain": [
       "'Os Condenados de Shawshank'"
      ]
     },
     "execution_count": 247,
     "metadata": {},
     "output_type": "execute_result"
    }
   ],
   "source": [
    "title_clean[0]"
   ]
  },
  {
   "cell_type": "code",
   "execution_count": 248,
   "metadata": {},
   "outputs": [],
   "source": [
    "soup = BeautifulSoup(data_html)\n",
    "\n",
    "stars = soup.find_all('td', attrs={'class','ratingColumn imdbRating'})\n",
    "\n"
   ]
  },
  {
   "cell_type": "code",
   "execution_count": 249,
   "metadata": {},
   "outputs": [],
   "source": [
    "stars_voting = []\n",
    "\n",
    "for element in stars:\n",
    "    stars_voting.append((element.find_all('strong')))"
   ]
  },
  {
   "cell_type": "code",
   "execution_count": 250,
   "metadata": {},
   "outputs": [],
   "source": [
    "stars_clean = []\n",
    "\n",
    "for element in stars_voting:\n",
    "    for subelement in element:\n",
    "        stars_clean.append(subelement.text)\n",
    "        "
   ]
  },
  {
   "cell_type": "code",
   "execution_count": 251,
   "metadata": {},
   "outputs": [
    {
     "data": {
      "text/plain": [
       "'Frank Darabont (dir.), Tim Robbins, Morgan Freeman'"
      ]
     },
     "execution_count": 251,
     "metadata": {},
     "output_type": "execute_result"
    }
   ],
   "source": [
    "directors_clean[0]"
   ]
  },
  {
   "cell_type": "code",
   "execution_count": 252,
   "metadata": {},
   "outputs": [
    {
     "data": {
      "text/plain": [
       "'(1994)'"
      ]
     },
     "execution_count": 252,
     "metadata": {},
     "output_type": "execute_result"
    }
   ],
   "source": [
    "initial_release_clean[0]"
   ]
  },
  {
   "cell_type": "code",
   "execution_count": 253,
   "metadata": {},
   "outputs": [],
   "source": [
    "imdb_dict = {\n",
    "    'movie': title_clean,\n",
    "    'directors': directors_clean,\n",
    "    'initial release': initial_release_clean,\n",
    "    'stars': stars_clean\n",
    "}"
   ]
  },
  {
   "cell_type": "code",
   "execution_count": 254,
   "metadata": {},
   "outputs": [],
   "source": [
    "imdb = pd.DataFrame(imdb_dict)"
   ]
  },
  {
   "cell_type": "code",
   "execution_count": 255,
   "metadata": {},
   "outputs": [
    {
     "data": {
      "text/html": [
       "<div>\n",
       "<style scoped>\n",
       "    .dataframe tbody tr th:only-of-type {\n",
       "        vertical-align: middle;\n",
       "    }\n",
       "\n",
       "    .dataframe tbody tr th {\n",
       "        vertical-align: top;\n",
       "    }\n",
       "\n",
       "    .dataframe thead th {\n",
       "        text-align: right;\n",
       "    }\n",
       "</style>\n",
       "<table border=\"1\" class=\"dataframe\">\n",
       "  <thead>\n",
       "    <tr style=\"text-align: right;\">\n",
       "      <th></th>\n",
       "      <th>movie</th>\n",
       "      <th>directors</th>\n",
       "      <th>initial release</th>\n",
       "      <th>stars</th>\n",
       "    </tr>\n",
       "  </thead>\n",
       "  <tbody>\n",
       "    <tr>\n",
       "      <th>0</th>\n",
       "      <td>Os Condenados de Shawshank</td>\n",
       "      <td>Frank Darabont (dir.), Tim Robbins, Morgan Fre...</td>\n",
       "      <td>(1994)</td>\n",
       "      <td>9.2</td>\n",
       "    </tr>\n",
       "    <tr>\n",
       "      <th>1</th>\n",
       "      <td>O Padrinho</td>\n",
       "      <td>Francis Ford Coppola (dir.), Marlon Brando, Al...</td>\n",
       "      <td>(1972)</td>\n",
       "      <td>9.1</td>\n",
       "    </tr>\n",
       "    <tr>\n",
       "      <th>2</th>\n",
       "      <td>O Padrinho: Parte II</td>\n",
       "      <td>Francis Ford Coppola (dir.), Al Pacino, Robert...</td>\n",
       "      <td>(1974)</td>\n",
       "      <td>9.0</td>\n",
       "    </tr>\n",
       "    <tr>\n",
       "      <th>3</th>\n",
       "      <td>O Cavaleiro das Trevas</td>\n",
       "      <td>Christopher Nolan (dir.), Christian Bale, Heat...</td>\n",
       "      <td>(2008)</td>\n",
       "      <td>9.0</td>\n",
       "    </tr>\n",
       "    <tr>\n",
       "      <th>4</th>\n",
       "      <td>Doze Homens em Fúria</td>\n",
       "      <td>Sidney Lumet (dir.), Henry Fonda, Lee J. Cobb</td>\n",
       "      <td>(1957)</td>\n",
       "      <td>8.9</td>\n",
       "    </tr>\n",
       "    <tr>\n",
       "      <th>...</th>\n",
       "      <td>...</td>\n",
       "      <td>...</td>\n",
       "      <td>...</td>\n",
       "      <td>...</td>\n",
       "    </tr>\n",
       "    <tr>\n",
       "      <th>245</th>\n",
       "      <td>Três Cores: Vermelho</td>\n",
       "      <td>Krzysztof Kieslowski (dir.), Irène Jacob, Jean...</td>\n",
       "      <td>(1994)</td>\n",
       "      <td>8.0</td>\n",
       "    </tr>\n",
       "    <tr>\n",
       "      <th>246</th>\n",
       "      <td>Aurora</td>\n",
       "      <td>F.W. Murnau (dir.), George O'Brien, Janet Gaynor</td>\n",
       "      <td>(1927)</td>\n",
       "      <td>8.0</td>\n",
       "    </tr>\n",
       "    <tr>\n",
       "      <th>247</th>\n",
       "      <td>Drishyam</td>\n",
       "      <td>Jeethu Joseph (dir.), Mohanlal, Meena</td>\n",
       "      <td>(2013)</td>\n",
       "      <td>8.0</td>\n",
       "    </tr>\n",
       "    <tr>\n",
       "      <th>248</th>\n",
       "      <td>Shin seiki Evangelion Gekijô-ban: Air/Magokoro...</td>\n",
       "      <td>Hideaki Anno (dir.), Megumi Ogata, Megumi Haya...</td>\n",
       "      <td>(1997)</td>\n",
       "      <td>8.0</td>\n",
       "    </tr>\n",
       "    <tr>\n",
       "      <th>249</th>\n",
       "      <td>Milagre na Cela 7</td>\n",
       "      <td>Mehmet Ada Öztekin (dir.), Aras Bulut Iynemli,...</td>\n",
       "      <td>(2019)</td>\n",
       "      <td>8.0</td>\n",
       "    </tr>\n",
       "  </tbody>\n",
       "</table>\n",
       "<p>250 rows × 4 columns</p>\n",
       "</div>"
      ],
      "text/plain": [
       "                                                 movie  \\\n",
       "0                           Os Condenados de Shawshank   \n",
       "1                                           O Padrinho   \n",
       "2                                 O Padrinho: Parte II   \n",
       "3                               O Cavaleiro das Trevas   \n",
       "4                                 Doze Homens em Fúria   \n",
       "..                                                 ...   \n",
       "245                               Três Cores: Vermelho   \n",
       "246                                             Aurora   \n",
       "247                                           Drishyam   \n",
       "248  Shin seiki Evangelion Gekijô-ban: Air/Magokoro...   \n",
       "249                                  Milagre na Cela 7   \n",
       "\n",
       "                                             directors initial release stars  \n",
       "0    Frank Darabont (dir.), Tim Robbins, Morgan Fre...          (1994)   9.2  \n",
       "1    Francis Ford Coppola (dir.), Marlon Brando, Al...          (1972)   9.1  \n",
       "2    Francis Ford Coppola (dir.), Al Pacino, Robert...          (1974)   9.0  \n",
       "3    Christopher Nolan (dir.), Christian Bale, Heat...          (2008)   9.0  \n",
       "4        Sidney Lumet (dir.), Henry Fonda, Lee J. Cobb          (1957)   8.9  \n",
       "..                                                 ...             ...   ...  \n",
       "245  Krzysztof Kieslowski (dir.), Irène Jacob, Jean...          (1994)   8.0  \n",
       "246   F.W. Murnau (dir.), George O'Brien, Janet Gaynor          (1927)   8.0  \n",
       "247              Jeethu Joseph (dir.), Mohanlal, Meena          (2013)   8.0  \n",
       "248  Hideaki Anno (dir.), Megumi Ogata, Megumi Haya...          (1997)   8.0  \n",
       "249  Mehmet Ada Öztekin (dir.), Aras Bulut Iynemli,...          (2019)   8.0  \n",
       "\n",
       "[250 rows x 4 columns]"
      ]
     },
     "execution_count": 255,
     "metadata": {},
     "output_type": "execute_result"
    }
   ],
   "source": [
    "imdb"
   ]
  },
  {
   "cell_type": "markdown",
   "metadata": {},
   "source": [
    "#### 3.1. Display the movie name, year and a brief summary of the top 10 random movies (IMDB) as a pandas dataframe."
   ]
  },
  {
   "cell_type": "code",
   "execution_count": 256,
   "metadata": {},
   "outputs": [],
   "source": [
    "#This is the url you will scrape in this exercise\n",
    "url = 'https://www.imdb.com/list/ls009796553/'\n",
    "\n",
    "response = requests.get(url)\n",
    "\n",
    "data_html = response.content"
   ]
  },
  {
   "cell_type": "code",
   "execution_count": 257,
   "metadata": {},
   "outputs": [],
   "source": [
    "# your code here\n",
    "\n",
    "soup = BeautifulSoup(data_html)"
   ]
  },
  {
   "cell_type": "code",
   "execution_count": 259,
   "metadata": {},
   "outputs": [],
   "source": [
    "titles = []\n",
    "\n",
    "for element in films:\n",
    "    titles.append(element.find_all('a'))"
   ]
  },
  {
   "cell_type": "code",
   "execution_count": 260,
   "metadata": {},
   "outputs": [
    {
     "data": {
      "text/plain": [
       "'Pesadelo em Elm Street'"
      ]
     },
     "execution_count": 260,
     "metadata": {},
     "output_type": "execute_result"
    }
   ],
   "source": [
    "titles[0][1].text"
   ]
  },
  {
   "cell_type": "code",
   "execution_count": 261,
   "metadata": {},
   "outputs": [],
   "source": [
    "titles_names = []\n",
    "\n",
    "counter = 0\n",
    "\n",
    "for element in titles:\n",
    "    titles_names.append((titles[counter][1]).text)\n",
    "    counter += 1\n",
    "    \n",
    "    "
   ]
  },
  {
   "cell_type": "code",
   "execution_count": 262,
   "metadata": {
    "scrolled": true
   },
   "outputs": [
    {
     "data": {
      "text/plain": [
       "['Pesadelo em Elm Street',\n",
       " 'Despertares',\n",
       " 'Liga de Mulheres',\n",
       " 'Um Bairro em Nova Iorque',\n",
       " 'Anjos em Campo',\n",
       " 'Tempo de Matar',\n",
       " 'Amistad',\n",
       " 'Anaconda',\n",
       " 'A Cool, Dry Place',\n",
       " 'América Proibida',\n",
       " 'Uma Questão de Nervos',\n",
       " 'Quase Famosos',\n",
       " 'American Psycho',\n",
       " 'A.I. Inteligência Artificial',\n",
       " 'Ali',\n",
       " 'American Pie 2: O Ano Seguinte',\n",
       " 'Uma Mente Brilhante',\n",
       " 'Olhos de Anjo',\n",
       " 'Coração de Cavaleiro',\n",
       " 'Antwone Fisher',\n",
       " 'Era Uma Vez Um Rapaz',\n",
       " 'Outra Questão de Nervos',\n",
       " 'A Hora dos Benjamins',\n",
       " 'Cody Banks - Agente de Palmo e Meio',\n",
       " 'American Splendor',\n",
       " 'American Pie: O Casamento',\n",
       " 'Terapia de Choque',\n",
       " 'O Repórter: A Lenda de Ron Burgundy',\n",
       " 'Alfie e as Mulheres',\n",
       " \"A Man's Gotta Do\",\n",
       " 'Uma História de Violência',\n",
       " 'Estás Frito, Meu!',\n",
       " 'Admitido',\n",
       " 'Estás Cada Vez Mais Frito, Meu!',\n",
       " 'Adventureland',\n",
       " 'Uma Fuga Perfeita',\n",
       " 'Avatar',\n",
       " 'Alice no País das Maravilhas',\n",
       " 'Pesadelo em Elm Street',\n",
       " 'Uma Bela Orgia à Moda Antiga',\n",
       " 'Mocas Felizes, Meu!',\n",
       " 'Arena',\n",
       " 'Força Destruidora',\n",
       " 'Henry e June',\n",
       " 'A Malta do Bairro',\n",
       " 'Billy Bathgate',\n",
       " 'O Príncipe das Mulheres',\n",
       " 'Beethoven',\n",
       " 'Mulheres de Armas',\n",
       " 'Homens à Parte',\n",
       " 'Um Porquinho Chamado Babe',\n",
       " 'Batman para Sempre',\n",
       " 'Jogos de Prazer',\n",
       " 'Bulworth - Candidato em Perigo',\n",
       " 'A Noiva de Chucky',\n",
       " 'Ladrão e Polícia',\n",
       " 'Perigo em Directo',\n",
       " 'Sedutora Endiabrada',\n",
       " 'O Agente Disfarçado',\n",
       " 'Billy Elliot',\n",
       " 'Dinheiro Quente',\n",
       " 'Tudo por Elas',\n",
       " 'Terra - Campo de Batalha',\n",
       " 'Os Polícias do Mundo',\n",
       " 'Baby Boy',\n",
       " 'Profissão de Risco',\n",
       " 'Bandidos',\n",
       " 'Atrás das Linhas do Inimigo',\n",
       " 'Cercados',\n",
       " 'Bones',\n",
       " 'Bubble Boy',\n",
       " 'O Cavaleiro Negro',\n",
       " 'A Barbearia',\n",
       " 'A Onda dos Sonhos',\n",
       " 'Bad Boys 2',\n",
       " 'Bad Santa - O Anti-Pai Natal',\n",
       " 'Básico',\n",
       " 'O Grande Peixe',\n",
       " 'Biker Boyz - Corridas Clandestinas',\n",
       " 'A Mulher da Casa',\n",
       " 'Bruce, o Todo-Poderoso',\n",
       " 'À Prova de Bala',\n",
       " 'Bobby Darin - O Amor é Eterno',\n",
       " 'A Barbearia 2 - De Volta ao Negócio',\n",
       " 'Jogos Mais Perigosos',\n",
       " 'BloodRayne',\n",
       " 'O Segredo de Brokeback Mountain',\n",
       " 'Diamante de Sangue',\n",
       " 'O Meu Nome é Bill',\n",
       " 'Antes que o Diabo Saiba que Morreste',\n",
       " 'Brick Lane',\n",
       " 'A Rapaz',\n",
       " 'O Corpo da Mentira',\n",
       " 'Atraídos Pelo Crime',\n",
       " 'Boy',\n",
       " 'Burning Palms',\n",
       " 'Professora Baldas',\n",
       " 'A Melhor Despedida de Solteira',\n",
       " 'Chucky, o Boneco Diabólico',\n",
       " 'Quem Não Chora Não... Ama']"
      ]
     },
     "execution_count": 262,
     "metadata": {},
     "output_type": "execute_result"
    }
   ],
   "source": [
    "soup = BeautifulSoup(data_html)\n",
    "\n",
    "films = soup.find_all('div', attrs={'class':'lister-item mode-detail'})"
   ]
  },
  {
   "cell_type": "code",
   "execution_count": 267,
   "metadata": {},
   "outputs": [],
   "source": [
    "films_years = soup.find_all('span', attrs={'class':'lister-item-year text-muted unbold'})\n",
    "\n",
    "films_years_clean = []\n",
    "\n",
    "for element in films_years:\n",
    "    films_years_clean.append((element.text).replace('(','').replace(')','').replace('I','').replace('Video','').strip())\n",
    "\n"
   ]
  },
  {
   "cell_type": "code",
   "execution_count": 273,
   "metadata": {},
   "outputs": [
    {
     "data": {
      "text/plain": [
       "['The monstrous spirit of a slain child murderer seeks revenge by invading the dreams of teenagers whose parents were responsible for his untimely death.',\n",
       " 'The victims of an encephalitis epidemic many years ago have been catatonic ever since, but now a new drug offers the prospect of reviving them.',\n",
       " 'Two sisters join the first female professional baseball league and struggle to help it succeed amidst their own growing rivalry.',\n",
       " 'A father becomes worried when a local gangster befriends his son in the Bronx in the 1960s.',\n",
       " 'When a boy prays for a chance to have a family if the California Angels win the pennant, angels are assigned to make that possible.',\n",
       " 'In Canton, Mississippi, a fearless young lawyer and his assistant defend a black man accused of murdering two white men who raped his ten-year-old daughter, inciting violent retribution and revenge from the Ku Klux Klan.',\n",
       " 'In 1839, the revolt of Mende captives aboard a Spanish owned ship causes a major controversy in the United States when the ship is captured off the coast of Long Island. The courts must decide whether the Mende are slaves or legally free.',\n",
       " 'A \"National Geographic\" film crew is taken hostage by an insane hunter, who forces them along on his quest to capture the world\\'s largest - and deadliest - snake.',\n",
       " 'Russell, single father balances his work as a lawyer with the care of his five-year-old son, after his wife abandoned them. When she reappears creating turmoil, he must deal with his new love interest and a job opportunity of a lifetime.',\n",
       " 'A former neo-nazi skinhead tries to prevent his younger brother from going down the same wrong path that he did.',\n",
       " 'A comedy about a psychiatrist whose number one patient is an insecure mob boss.',\n",
       " 'A high-school boy is given the chance to write a story for Rolling Stone Magazine about an up-and-coming rock band as he accompanies them on their concert tour.',\n",
       " 'A wealthy New York City investment banking executive, Patrick Bateman, hides his alternate psychopathic ego from his co-workers and friends as he delves deeper into his violent, hedonistic fantasies.',\n",
       " 'A highly advanced robotic boy longs to become \"real\" so that he can regain the love of his human mother.',\n",
       " 'A biography of sports legend Muhammad Ali, focusing on his triumphs and controversies between 1964 and 1974.',\n",
       " 'Jim and his friends are now in college, and they decide to meet up at the beach house for some fun.',\n",
       " 'After John Nash, a brilliant but asocial mathematician, accepts secret work in cryptography, his life takes a turn for the nightmarish.',\n",
       " 'A mysterious man is drawn to a feisty female police officer and a unusual relationship ensues, as not everything is as it seems.',\n",
       " 'After his master dies, a peasant squire, fueled by his desire for food and glory, creates a new identity for himself as a knight.',\n",
       " 'Antwone Fisher, a young navy man, is forced to see a psychiatrist after a violent outburst against a fellow crewman. During the course of treatment a painful past is revealed and a new hope begins.',\n",
       " 'A cynical, immature young man is taught how to act like a grown-up by a little boy.',\n",
       " \"Mobster Paul Vitti is released into Dr. Ben Sobol's care, where only more chaos ensues.\",\n",
       " 'Bounty hunter Bucum chases bail-jumper Reggie, who runs right into the scene of a diamond heist and murder and gets shot at as well. Later they become partners in their pursuit of the $20M in diamonds and lottery ticket. Their women join.',\n",
       " 'A government agent trains Cody Banks in the ways of covert operations that require younger participants.',\n",
       " 'An original mix of fiction and reality illuminates the life of comic book hero everyman Harvey Pekar.',\n",
       " \"It's the wedding of Jim and Michelle and the gathering of their families and friends, including Jim's old friends from high school and Michelle's little sister.\",\n",
       " 'Dave Buznik is a businessman who is wrongly sentenced to an anger management program, where he meets an aggressive instructor.',\n",
       " \"Ron Burgundy is San Diego's top-rated newsman in the male-dominated broadcasting of the 1970s, but that's all about to change for Ron and his cronies when an ambitious woman is hired as a new anchor.\",\n",
       " 'A cockney womanizer learns the hard way about the dangers of his actions.',\n",
       " 'A burly Australian fisherman moonlights as a hit man while trying to keep his family together in this hilarious comedy.',\n",
       " 'A mild-mannered man becomes a local hero through an act of violence, which sets off repercussions that will shake his family to its very core.',\n",
       " \"To impress a foxy divorcee, ladies' man Nick offers to take her kids on an extended road trip, unaware of the torture he's in for.\",\n",
       " \"A high school slacker who's rejected by every school he applies to opts to create his own institution of higher learning, the South Harmon Institute of Technology, on a rundown piece of property near his hometown.\",\n",
       " 'Newlyweds Nick and Suzanne decide to move to the suburbs to provide a better life for their two kids. But their idea of a dream home is disturbed by a contractor with a bizarre approach to business.',\n",
       " \"In the summer of 1987, a college graduate takes a 'nowhere' job at his local amusement park, only to find it's the perfect course to get him prepared for the real world.\",\n",
       " 'Two pairs of lovers on a Hawaiian vacation discover that psychopaths are stalking and murdering tourists on the islands.',\n",
       " 'A paraplegic Marine dispatched to the moon Pandora on a unique mission becomes torn between following his orders and protecting the world he feels is his home.',\n",
       " \"Nineteen-year-old Alice returns to the magical world from her childhood adventure, where she reunites with her old friends and learns of her true destiny: to end the Red Queen's reign of terror.\",\n",
       " 'The spectre of a disfigured man haunts the children of the parents who murdered him, stalking and killing them in their dreams.',\n",
       " 'A group of 30-year-olds who have been friends since high school attempt to throw an end-of-summer orgy.',\n",
       " \"Six years after their Guantanamo Bay adventure, stoner buds Harold Lee and Kumar Patel cause a holiday fracas by inadvertently burning down Harold's father-in-law's prize Christmas tree.\",\n",
       " 'David Lord finds himself forced into the savage world of a modern gladiatorial arena, where men fight to the death for the entertainment of the online masses.',\n",
       " '\"Bloodsport\" follows Frank Dux, an American martial artist serving in the military, who decides to leave the army to compete in a martial arts tournament in Hong Kong where fights to the death can occur.',\n",
       " 'Anaïs Nin meets the American writer, Henry Miller, in Paris in 1931. She keeps a diary of her sexual awakening which includes Henry and his wife, June.',\n",
       " 'Follows the lives of three young males living in the Crenshaw ghetto of Los Angeles, dissecting questions of race, relationships, violence, and future prospects.',\n",
       " 'In the year 1935, a teen named Billy Bathgate finds first love while becoming the protégé of fledgling gangster Dutch Schultz.',\n",
       " 'A successful executive and womanizer finds his lifestyle choices have turned back on him when his new female boss turns out to be an even bigger deviant than he is.',\n",
       " 'A slobbering St. Bernard becomes the center of attention for a loving family, but must contend with a dog-napping veterinarian and his henchmen.',\n",
       " 'Four prostitutes join together to travel the Old West.',\n",
       " \"Robin shares a ride in her car with Jane from New York to Los Angeles. They stop at Jane's friend Holly's place in Pittsburgh and take her with them west, making a long stop in Tucson. The three very different women become close friends.\",\n",
       " 'Babe, a pig raised by sheepdogs, learns to herd sheep with a little help from Farmer Hoggett.',\n",
       " 'Batman must battle former district attorney Harvey Dent, who is now Two-Face and Edward Nygma, The Riddler with help from an amorous psychologist and a young circus acrobat who becomes his sidekick, Robin.',\n",
       " 'Back when sex was safe, pleasure was a business and business was booming, an idealistic porn producer aspires to elevate his craft to an art when he discovers a hot young talent.',\n",
       " 'A suicidally disillusioned liberal politician puts a contract out on himself and takes the opportunity to be bluntly honest with his voters by affecting the rhythms and speech of hip-hop music and culture.',\n",
       " 'Chucky, the doll possessed by a serial killer, discovers the perfect mate to kill and revive into the body of another doll.',\n",
       " 'A former convict poses as a cop to retrieve a diamond he stole years ago.',\n",
       " 'An ex-con is used by police to lure a criminal out of hiding.',\n",
       " 'Hopeless dweeb Elliot Richards is granted seven wishes by the Devil to snare Allison, the girl of his dreams, in exchange for his soul.',\n",
       " 'In order to protect a beautiful woman and her son from a robber, a male FBI agent disguises himself as a large grandmother.',\n",
       " 'A talented young boy becomes torn between his unexpected love of dance and the disintegration of his family.',\n",
       " \"A college dropout, attempting to live up to his father's high standards, gets a job as a broker for a suburban investment firm which puts him on the fast track to success. But the job might not be as legitimate as it first appeared to be.\",\n",
       " \"A champion high school cheerleading squad discovers its previous captain stole all their best routines from an inner-city school and must scramble to compete at this year's championships.\",\n",
       " \"It's the year 3000 A.D., and the Earth is lost to the alien race of Psychlos. Humanity is enslaved by these gold-thirsty tyrants, who are unaware that their 'man-animals' are about to ignite the rebellion of a lifetime.\",\n",
       " 'A criminal subculture operates among U.S. soldiers stationed in West Germany just before the fall of the Berlin wall.',\n",
       " 'In South Central L.A., a misguided 20-year-old African-American man, a \"baby boy\", faces the commitments of real life.',\n",
       " 'The story of how George Jung, along with the Medellín Cartel headed by Pablo Escobar, established the American cocaine market in the 1970s in the United States.',\n",
       " \"Two bank robbers fall in love with the girl they've kidnapped.\",\n",
       " 'A Navy navigator is shot down over enemy territory and is ruthlessly pursued by a secret police enforcer and the opposing troops. Meanwhile his commanding officer goes against orders in an attempt to rescue him.',\n",
       " '160 elite U.S. soldiers drop into Somalia to capture two top lieutenants of a renegade warlord and find themselves in a desperate battle with a large force of heavily-armed Somalis.',\n",
       " 'Over 20 years after his death by a gunshot, Jimmy Bones comes back as a ghost to wreak revenge on those who killed him and to clean up his neighborhood.',\n",
       " \"Bubble Boy's been in a bubble all his life due to no immune system. A cute blonde girl befriends BB. Her boyfriend proposes and BB decides to travel across USA to Niagara Falls to stop the wedding.\",\n",
       " 'Martin Lawrence plays Jamal, an employee in Medieval World amusement park. After sustaining a blow to the head, he awakens to find himself in 14th century England.',\n",
       " 'A day in the life of a South Side Chicago barbershop.',\n",
       " 'As a hard-core surfer girl prepares for a big competition, she finds herself falling for a football player.',\n",
       " 'Two loose-cannon narcotics cops investigate the flow of Ecstasy into Florida from a Cuban drug cartel.',\n",
       " 'A miserable conman and his partner pose as Santa and his Little Helper to rob department stores on Christmas Eve. But they run into problems when the conman befriends a troubled kid.',\n",
       " 'A D.E.A. Agent investigates the disappearance of a legendary Army Ranger Drill Sergeant and several of his cadets during a training exercise gone severely awry.',\n",
       " \"A frustrated son tries to determine the fact from fiction in his dying father's life.\",\n",
       " 'A son of the leader of a legendary group of an urban biker gang tries to retain his championship title.',\n",
       " 'When a lonely guy meets a woman on the internet who happens to be in prison, she breaks out to get him to prove her innocence, and proceeds to wreak havoc on his middle-class life.',\n",
       " 'A guy who complains about God too often is given almighty powers to teach him how difficult it is to run the world.',\n",
       " 'Based on the very underground comic book of the same name, a Tibetan monk becomes a mentor to a young street punk and tries teaching him how to protect the scroll of ultimate power from a secret Nazi organization bent on world domination.',\n",
       " 'A swooning study of \"Mack the Knife\" singer Bobby Darin and specifically his relationship with wife Sandra Dee.',\n",
       " 'The owner of an historic South Side Chicago barbershop is pressured to sell out to a land developer, but must face the impact this would have on his close-knit community.',\n",
       " 'Disenchanted with the movie industry, Chili Palmer tries the music industry, meeting and romancing a widow of a music executive on the way.',\n",
       " 'In the eighteenth century, a vampire escapes from the freak show, in which she once participated, and teams up with a group of vampire slayers to kill the man who raped her mother.',\n",
       " 'Ennis and Jack are two shepherds who develop a sexual and emotional relationship. Their relationship becomes complicated when both of them get married to their respective girlfriends.',\n",
       " 'A fisherman, a smuggler, and a syndicate of businessmen match wits over the possession of a priceless diamond.',\n",
       " 'A guy fed up with his job and married to a cheating wife reluctantly mentors a rebellious teen.',\n",
       " \"When two brothers organize the robbery of their parents' jewelry store the job goes horribly wrong, triggering a series of events that sends them, their father and one brother's wife hurtling towards a shattering climax.\",\n",
       " 'In 1980s London, Nazneem, a young Bangladeshi woman, feels her soul is quietly dying in her arranged marriage, until the day hot-headed Karim comes knocking at her door.',\n",
       " 'The story of a young Jack, newly released from serving a prison sentence for a violent crime he committed as a child.',\n",
       " 'A CIA agent on the ground in Jordan hunts down a powerful terrorist leader while being caught between the unclear intentions of his American supervisors and Jordan Intelligence.',\n",
       " 'Three unconnected Brooklyn cops wind up at the same deadly location after enduring vastly different career paths.',\n",
       " 'Set on the east coast of New Zealand in 1984, Boy, an 11-year-old child and devout Michael Jackson fan, gets a chance to know his absentee criminal father, who has returned to find a bag of money he buried years ago.',\n",
       " 'A subversive tale that interlaces five stories set in Los Angeles, where no taboo is left unexplored as each character careens toward a dark and often comic fate.',\n",
       " 'A lazy, incompetent middle school teacher who hates her job, her students, and her co-workers is forced to return to teaching to make enough money for breast implants after her wealthy fiancé dumps her.',\n",
       " \"Competition between the maid of honor and a bridesmaid, over who is the bride's best friend, threatens to upend the life of an out-of-work pastry chef.\",\n",
       " 'A single mother gives her son a much sought-after doll for his birthday, only to discover that it is possessed by the soul of a serial killer.',\n",
       " 'In 1950s Baltimore, a bad boy with a heart of gold wins the love of a good girl, whose boyfriend sets out for revenge.']"
      ]
     },
     "execution_count": 273,
     "metadata": {},
     "output_type": "execute_result"
    }
   ],
   "source": [
    "films_text = soup.find_all('p', attrs={'class':''})\n",
    "\n",
    "films_text_clean = []\n",
    "\n",
    "for element in films_text:\n",
    "    films_text_clean.append((element.text).replace('\\n',''))\n",
    "\n",
    "films_text_clean"
   ]
  },
  {
   "cell_type": "code",
   "execution_count": 276,
   "metadata": {},
   "outputs": [],
   "source": [
    "new_dict1 = {\n",
    "    'films': titles_names,\n",
    "    'year': films_years_clean,\n",
    "    'description': films_text_clean\n",
    "}\n",
    "\n",
    "random_movies = pd.DataFrame(new_dict1)"
   ]
  },
  {
   "cell_type": "code",
   "execution_count": 277,
   "metadata": {},
   "outputs": [
    {
     "data": {
      "text/html": [
       "<div>\n",
       "<style scoped>\n",
       "    .dataframe tbody tr th:only-of-type {\n",
       "        vertical-align: middle;\n",
       "    }\n",
       "\n",
       "    .dataframe tbody tr th {\n",
       "        vertical-align: top;\n",
       "    }\n",
       "\n",
       "    .dataframe thead th {\n",
       "        text-align: right;\n",
       "    }\n",
       "</style>\n",
       "<table border=\"1\" class=\"dataframe\">\n",
       "  <thead>\n",
       "    <tr style=\"text-align: right;\">\n",
       "      <th></th>\n",
       "      <th>films</th>\n",
       "      <th>year</th>\n",
       "      <th>description</th>\n",
       "    </tr>\n",
       "  </thead>\n",
       "  <tbody>\n",
       "    <tr>\n",
       "      <th>0</th>\n",
       "      <td>Pesadelo em Elm Street</td>\n",
       "      <td>1984</td>\n",
       "      <td>The monstrous spirit of a slain child murderer...</td>\n",
       "    </tr>\n",
       "    <tr>\n",
       "      <th>1</th>\n",
       "      <td>Despertares</td>\n",
       "      <td>1990</td>\n",
       "      <td>The victims of an encephalitis epidemic many y...</td>\n",
       "    </tr>\n",
       "    <tr>\n",
       "      <th>2</th>\n",
       "      <td>Liga de Mulheres</td>\n",
       "      <td>1992</td>\n",
       "      <td>Two sisters join the first female professional...</td>\n",
       "    </tr>\n",
       "    <tr>\n",
       "      <th>3</th>\n",
       "      <td>Um Bairro em Nova Iorque</td>\n",
       "      <td>1993</td>\n",
       "      <td>A father becomes worried when a local gangster...</td>\n",
       "    </tr>\n",
       "    <tr>\n",
       "      <th>4</th>\n",
       "      <td>Anjos em Campo</td>\n",
       "      <td>1994</td>\n",
       "      <td>When a boy prays for a chance to have a family...</td>\n",
       "    </tr>\n",
       "    <tr>\n",
       "      <th>...</th>\n",
       "      <td>...</td>\n",
       "      <td>...</td>\n",
       "      <td>...</td>\n",
       "    </tr>\n",
       "    <tr>\n",
       "      <th>95</th>\n",
       "      <td>Burning Palms</td>\n",
       "      <td>2010</td>\n",
       "      <td>A subversive tale that interlaces five stories...</td>\n",
       "    </tr>\n",
       "    <tr>\n",
       "      <th>96</th>\n",
       "      <td>Professora Baldas</td>\n",
       "      <td>2011</td>\n",
       "      <td>A lazy, incompetent middle school teacher who ...</td>\n",
       "    </tr>\n",
       "    <tr>\n",
       "      <th>97</th>\n",
       "      <td>A Melhor Despedida de Solteira</td>\n",
       "      <td>2011</td>\n",
       "      <td>Competition between the maid of honor and a br...</td>\n",
       "    </tr>\n",
       "    <tr>\n",
       "      <th>98</th>\n",
       "      <td>Chucky, o Boneco Diabólico</td>\n",
       "      <td>1988</td>\n",
       "      <td>A single mother gives her son a much sought-af...</td>\n",
       "    </tr>\n",
       "    <tr>\n",
       "      <th>99</th>\n",
       "      <td>Quem Não Chora Não... Ama</td>\n",
       "      <td>1990</td>\n",
       "      <td>In 1950s Baltimore, a bad boy with a heart of ...</td>\n",
       "    </tr>\n",
       "  </tbody>\n",
       "</table>\n",
       "<p>100 rows × 3 columns</p>\n",
       "</div>"
      ],
      "text/plain": [
       "                             films  year  \\\n",
       "0           Pesadelo em Elm Street  1984   \n",
       "1                      Despertares  1990   \n",
       "2                 Liga de Mulheres  1992   \n",
       "3         Um Bairro em Nova Iorque  1993   \n",
       "4                   Anjos em Campo  1994   \n",
       "..                             ...   ...   \n",
       "95                   Burning Palms  2010   \n",
       "96               Professora Baldas  2011   \n",
       "97  A Melhor Despedida de Solteira  2011   \n",
       "98      Chucky, o Boneco Diabólico  1988   \n",
       "99       Quem Não Chora Não... Ama  1990   \n",
       "\n",
       "                                          description  \n",
       "0   The monstrous spirit of a slain child murderer...  \n",
       "1   The victims of an encephalitis epidemic many y...  \n",
       "2   Two sisters join the first female professional...  \n",
       "3   A father becomes worried when a local gangster...  \n",
       "4   When a boy prays for a chance to have a family...  \n",
       "..                                                ...  \n",
       "95  A subversive tale that interlaces five stories...  \n",
       "96  A lazy, incompetent middle school teacher who ...  \n",
       "97  Competition between the maid of honor and a br...  \n",
       "98  A single mother gives her son a much sought-af...  \n",
       "99  In 1950s Baltimore, a bad boy with a heart of ...  \n",
       "\n",
       "[100 rows x 3 columns]"
      ]
     },
     "execution_count": 277,
     "metadata": {},
     "output_type": "execute_result"
    }
   ],
   "source": [
    "random_movies"
   ]
  },
  {
   "cell_type": "markdown",
   "metadata": {},
   "source": [
    "## Bonus"
   ]
  },
  {
   "cell_type": "code",
   "execution_count": null,
   "metadata": {},
   "outputs": [],
   "source": []
  },
  {
   "cell_type": "markdown",
   "metadata": {},
   "source": [
    "#### Find the live weather report (temperature, wind speed, description and weather) of a given city."
   ]
  },
  {
   "cell_type": "code",
   "execution_count": null,
   "metadata": {},
   "outputs": [],
   "source": [
    "#https://openweathermap.org/current\n",
    "city = input('Enter the city: ')\n",
    "url = 'http://api.openweathermap.org/data/2.5/weather?'+'q='+city+'&APPID=b35975e18dc93725acb092f7272cc6b8&units=metric'"
   ]
  },
  {
   "cell_type": "code",
   "execution_count": null,
   "metadata": {},
   "outputs": [],
   "source": [
    "# your code here"
   ]
  },
  {
   "cell_type": "markdown",
   "metadata": {},
   "source": [
    "#### Find the book name, price and stock availability as a pandas dataframe."
   ]
  },
  {
   "cell_type": "code",
   "execution_count": null,
   "metadata": {},
   "outputs": [],
   "source": [
    "# This is the url you will scrape in this exercise. \n",
    "# It is a fictional bookstore created to be scraped. \n",
    "url = 'http://books.toscrape.com/'"
   ]
  },
  {
   "cell_type": "code",
   "execution_count": null,
   "metadata": {},
   "outputs": [],
   "source": [
    "# your code here"
   ]
  },
  {
   "cell_type": "markdown",
   "metadata": {},
   "source": [
    "####  Display the 100 latest earthquakes info (date, time, latitude, longitude and region name) by the EMSC as a pandas dataframe.\n",
    "***Hint:*** Here the displayed number of earthquakes per page is 20, but you can easily move to the next page by looping through the desired number of pages and adding it to the end of the url."
   ]
  },
  {
   "cell_type": "code",
   "execution_count": null,
   "metadata": {},
   "outputs": [],
   "source": [
    "# This is the url you will scrape in this exercise\n",
    "url = 'https://www.emsc-csem.org/Earthquake/?view='\n",
    "\n",
    "# This is how you will loop through each page:\n",
    "number_of_pages = int(100/20)\n",
    "each_page_urls = []\n",
    "\n",
    "for n in range(1, number_of_pages+1):\n",
    "    link = url+str(n)\n",
    "    each_page_urls.append(link)\n",
    "    \n",
    "each_page_urls"
   ]
  },
  {
   "cell_type": "code",
   "execution_count": null,
   "metadata": {},
   "outputs": [],
   "source": [
    "# your code here"
   ]
  }
 ],
 "metadata": {
  "kernelspec": {
   "display_name": "Python 3",
   "language": "python",
   "name": "python3"
  },
  "language_info": {
   "codemirror_mode": {
    "name": "ipython",
    "version": 3
   },
   "file_extension": ".py",
   "mimetype": "text/x-python",
   "name": "python",
   "nbconvert_exporter": "python",
   "pygments_lexer": "ipython3",
   "version": "3.8.5"
  }
 },
 "nbformat": 4,
 "nbformat_minor": 2
}
